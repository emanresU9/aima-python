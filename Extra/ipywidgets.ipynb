{
 "cells": [
  {
   "cell_type": "code",
   "execution_count": 1,
   "id": "ceda0d81-4b90-42b7-b91e-e158a1771a4e",
   "metadata": {},
   "outputs": [
    {
     "data": {
      "application/vnd.jupyter.widget-view+json": {
       "model_id": "4ab92fd6e3b84a33b096596b15787bf7",
       "version_major": 2,
       "version_minor": 0
      },
      "text/plain": [
       "interactive(children=(IntSlider(value=7, description='ph', max=14), Output()), _dom_classes=('widget-interact'…"
      ]
     },
     "metadata": {},
     "output_type": "display_data"
    }
   ],
   "source": [
    "import ipywidgets as widgets\n",
    "from ipywidgets import interact\n",
    "\n",
    "def display_reading(ph):\n",
    "    level = \"\"\n",
    "    if ph > 10:\n",
    "        level = \"very basic\"\n",
    "    elif ph < 4:\n",
    "        level = \"very acidic\"\n",
    "    elif ph < 6.30:\n",
    "        level = \"acidic\"\n",
    "    elif ph > 7.70:\n",
    "        level = \"basic\"\n",
    "    else:\n",
    "        level = \"neutral\"\n",
    "    print(f\"Ph levels are: {level}\")\n",
    "    # print(ph*ph)\n",
    "\n",
    "interact(display_reading, ph = (0, 14));"
   ]
  },
  {
   "cell_type": "code",
   "execution_count": null,
   "id": "ec0d0fd3-0afa-44da-8b01-bd23706276f8",
   "metadata": {},
   "outputs": [],
   "source": []
  }
 ],
 "metadata": {
  "kernelspec": {
   "display_name": "Python 3 (ipykernel)",
   "language": "python",
   "name": "python3"
  },
  "language_info": {
   "codemirror_mode": {
    "name": "ipython",
    "version": 3
   },
   "file_extension": ".py",
   "mimetype": "text/x-python",
   "name": "python",
   "nbconvert_exporter": "python",
   "pygments_lexer": "ipython3",
   "version": "3.9.21"
  }
 },
 "nbformat": 4,
 "nbformat_minor": 5
}
